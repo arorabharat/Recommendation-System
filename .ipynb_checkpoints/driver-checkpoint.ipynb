{
 "cells": [
  {
   "cell_type": "code",
   "execution_count": 1,
   "metadata": {
    "collapsed": true
   },
   "outputs": [],
   "source": [
    "import pandas as pd\n",
    "import numpy as np\n",
    "from scipy import spatial\n",
    "from sklearn import metrics\n",
    "import pickle\n",
    "import random\n",
    "\n",
    "m = 1000  # number of users\n",
    "n = 1000  # number of items\n",
    "\n",
    "A = np.zeros([m + 1, n + 1])  # user_item rating matrix\n",
    "filled_rating = []\n",
    "item_item_sim = np.zeros([n+1, n+1])\n",
    "user_user_sim = np.zeros([m+1, m+1])\n",
    "random_location = set()\n",
    "path = 'library/' # make it empty in azure notebook\n",
    "\n",
    "\n",
    "def gt_col(mat, col):\n",
    "    return mat[:, col]\n",
    "\n",
    "\n",
    "def gt_row(mat, row):\n",
    "    return mat[row, :]\n",
    "\n",
    "\n",
    "def magnitude(v):\n",
    "    return np.linalg.norm(v)\n",
    "\n",
    "\n",
    "def cosine_sim(v1, v2):\n",
    "    return 1 - spatial.distance.cosine(v1, v2)\n"
   ]
  },
  {
   "cell_type": "code",
   "execution_count": null,
   "metadata": {},
   "outputs": [],
   "source": []
  },
  {
   "cell_type": "code",
   "execution_count": 2,
   "metadata": {},
   "outputs": [],
   "source": [
    "f = open(path + 'user_item.pckl', 'rb')\n",
    "A = pickle.load(f)\n",
    "f.close()\n",
    "\n",
    "f = open(path + 'filled_rating.pckl', 'rb')\n",
    "filled_rating = pickle.load(f)\n",
    "f.close()\n",
    "\n",
    "f = open(path + 'user_user_sim.pckl', 'rb')\n",
    "user_user_sim = pickle.load(f)\n",
    "f.close()\n",
    "\n",
    "f = open(path + 'item_item_sim.pckl', 'rb')\n",
    "item_item_sim = pickle.load(f)\n",
    "f.close()\n",
    "\n",
    "f = open(path + 'random_location.pckl', 'rb')\n",
    "random_location = pickle.load(f)\n",
    "f.close()\n"
   ]
  },
  {
   "cell_type": "code",
   "execution_count": 3,
   "metadata": {},
   "outputs": [],
   "source": [
    "# Only execute if you want to generate the filled_rating or A matrix\n",
    "sample_data = pd.read_csv(path + \"sampleData.csv\")\n",
    "\n",
    "A = np.zeros([m + 1, n + 1])\n",
    "\n",
    "for row in range(0, sample_data.shape[0]):\n",
    "    i = sample_data['userId'][row]\n",
    "    j = sample_data['movieId'][row]\n",
    "    v = sample_data['rating'][row]\n",
    "    A[i][j] = v\n",
    "    filled_rating.append([i, j, v])\n",
    "\n",
    "user_item_pkl = open(path + 'user_item.pckl', 'wb')\n",
    "pickle.dump(A, user_item_pkl )\n",
    "user_item_pkl.close()\n",
    "\n",
    "filled_rating_pkl = open(path + 'filled_rating.pckl', 'wb')\n",
    "pickle.dump(filled_rating, filled_rating_pkl)\n",
    "filled_rating_pkl.close()\n",
    "\n",
    "np.savetxt(path + \"user_item.csv\", A, delimiter=\",\")  # saving user item rating matrix\n",
    "np.savetxt(path + \"filled_rating.csv\", A, delimiter=\",\") # saving places where the rating is present"
   ]
  },
  {
   "cell_type": "code",
   "execution_count": 4,
   "metadata": {},
   "outputs": [],
   "source": [
    "# Only execute if you want to generate the item_item_sim\n",
    "item_item_sim = np.zeros([n+1, n+1])\n",
    "\n",
    "for i in range(0, n+1):\n",
    "    for j in range(0, n+1):\n",
    "        v1 = gt_col(A, i)\n",
    "        v2 = gt_col(A, j)\n",
    "        if magnitude(v1) != 0 and magnitude(v2) != 0:\n",
    "            item_item_sim[i][j] = cosine_sim(v1, v2)\n",
    "\n",
    "item_item_sim_pkl = open(path + 'item_item_sim.pckl', 'wb')\n",
    "pickle.dump(item_item_sim, item_item_sim_pkl)\n",
    "item_item_sim_pkl.close()\n",
    "\n",
    "np.savetxt(path + \"item_item_similarity.csv\", item_item_sim, delimiter=\",\") # saving item-item similarit"
   ]
  },
  {
   "cell_type": "code",
   "execution_count": 5,
   "metadata": {},
   "outputs": [],
   "source": [
    "# Only execute if you want to generate the user_user_item\n",
    "user_user_sim = np.zeros([m+1, m+1])\n",
    "for i in range(0, m+1):\n",
    "    for j in range(0, m+1):\n",
    "        v1 = gt_row(A, i)\n",
    "        v2 = gt_row(A, j)\n",
    "        if magnitude(v1) != 0 and magnitude(v2) != 0:\n",
    "            user_user_sim[i][j] = cosine_sim(v1, v2)\n",
    "\n",
    "user_user_sim_pkl = open(path + 'user_user_sim.pckl', 'wb')\n",
    "pickle.dump(user_user_sim, user_user_sim_pkl)\n",
    "user_user_sim_pkl.close()\n",
    "\n",
    "np.savetxt(path + \"user_user_similarity.csv\", user_user_sim, delimiter=\",\") # saving user user similarity"
   ]
  },
  {
   "cell_type": "code",
   "execution_count": 4,
   "metadata": {},
   "outputs": [
    {
     "name": "stdout",
     "output_type": "stream",
     "text": [
      "39744\n"
     ]
    }
   ],
   "source": [
    "print(len(filled_rating))"
   ]
  },
  {
   "cell_type": "code",
   "execution_count": 37,
   "metadata": {},
   "outputs": [],
   "source": [
    "# Only execute if you want to generate the user_user_item\n",
    "lth = len(filled_rating)\n",
    "while len(random_location) != int(0.2*lth):\n",
    "    random_location.add(random.randint(1, lth))\n",
    "\n",
    "random_location_pkl = open(path + 'random_location.pckl', 'wb')\n",
    "pickle.dump(random_location, random_location_pkl)\n",
    "random_location_pkl.close()"
   ]
  },
  {
   "cell_type": "code",
   "execution_count": 25,
   "metadata": {},
   "outputs": [
    {
     "name": "stdout",
     "output_type": "stream",
     "text": [
      "0.7447538466324093\n0.960256\n"
     ]
    }
   ],
   "source": [
    "# x, y = item_item_sim.shape\n",
    "# location1 = filled_rating[next(iter(random_location))]\n",
    "# print(pred_item)\n",
    "# print(A[active_user][pred_item])\n",
    "# print(A[active_user][pred_item])\n",
    "# print(active_user_item_dot/similarity_sum - actual_rating)\n",
    "predicted = []\n",
    "actual = []\n",
    "for r in random_location:\n",
    "    location1 = filled_rating[r]\n",
    "    active_user = location1[0]\n",
    "    pred_item = location1[1]\n",
    "    actual_rating = location1[2]\n",
    "    # print(active_user,pred_item,actual_rating)\n",
    "    actual.append(actual_rating)\n",
    "    A[active_user][pred_item] = 0\n",
    "    active_user_item_dot = np.dot(gt_row(A, active_user), gt_row(item_item_sim, pred_item))\n",
    "    similarity_sum = np.sum(np.multiply( gt_row(A, active_user).astype(bool), gt_row(item_item_sim,pred_item)))\n",
    "    if similarity_sum != 0:\n",
    "        p = active_user_item_dot/similarity_sum\n",
    "        predicted.append(p)\n",
    "    A[active_user][pred_item] = actual_rating\n",
    "\n",
    "print(metrics.mean_absolute_error(actual, predicted))\n",
    "sparsity_level = 1 - len(filled_rating)/(n*m)\n",
    "print(sparsity_level)"
   ]
  },
  {
   "cell_type": "code",
   "execution_count": 15,
   "metadata": {},
   "outputs": [],
   "source": [
    ""
   ]
  },
  {
   "cell_type": "code",
   "execution_count": null,
   "metadata": {},
   "outputs": [],
   "source": []
  }
 ],
 "metadata": {
  "kernelspec": {
   "display_name": "Python 2",
   "language": "python",
   "name": "python2"
  },
  "language_info": {
   "codemirror_mode": {
    "name": "ipython",
    "version": 3
   },
   "file_extension": ".py",
   "mimetype": "text/x-python",
   "name": "python",
   "nbconvert_exporter": "python",
   "pygments_lexer": "ipython3",
   "version": "3.5.2"
  }
 },
 "nbformat": 4,
 "nbformat_minor": 1
}
